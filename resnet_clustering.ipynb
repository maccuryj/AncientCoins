{
 "cells": [
  {
   "cell_type": "code",
   "execution_count": 1,
   "metadata": {},
   "outputs": [
    {
     "name": "stderr",
     "output_type": "stream",
     "text": [
      "Exception ignored in: <_io.FileIO name='/home/jmaccury/Coding/python-environments/ml/lib/python3.6/site-packages/torchvision/_C.so' mode='rb' closefd=True>\n",
      "ResourceWarning: unclosed file <_io.BufferedReader name='/home/jmaccury/Coding/python-environments/ml/lib/python3.6/site-packages/torchvision/_C.so'>\n"
     ]
    }
   ],
   "source": [
    "from create_coinset import CoinQuery, ImageParams\n",
    "from coin_loader import AncientCoins\n",
    "from coin_model import BasicCNN, TrainModel\n",
    "import coin_loader\n",
    "import torch\n",
    "import torch.nn as nn\n",
    "from torchvision import transforms, models\n",
    "import os"
   ]
  },
  {
   "cell_type": "code",
   "execution_count": 4,
   "metadata": {},
   "outputs": [],
   "source": [
    "#Set to True if dataset should be created\n",
    "create = False\n",
    "\n",
    "if create:\n",
    "    #Create default dataset in folder 'Resnet_Coinset'\n",
    "    conn = sql.connect(**cf.config)\n",
    "    coin_query = CoinQuery(conn)\n",
    "    image_params = ImageParams(size=256)\n",
    "    coin_query.create_dataset('Resnet_Coinset', image_params)\n",
    "    conn.close()"
   ]
  },
  {
   "cell_type": "code",
   "execution_count": null,
   "metadata": {},
   "outputs": [],
   "source": [
    "# Set the device to cuda if a GPU is available\n",
    "is_gpu = torch.cuda.is_available()\n",
    "device = torch.device(\"cuda\" if is_gpu else \"cpu\")\n",
    "#Set the desired image size (according to CNN requirements)\n",
    "img_size = 256\n",
    "\n",
    "transform = [\n",
    "            transforms.ToPILImage(),\n",
    "            transforms.Resize((img_size,img_size)),\n",
    "            transforms.RandomHorizontalFlip(),\n",
    "            transforms.Grayscale(num_output_channels=1),\n",
    "            transforms.ToTensor()]\n",
    "\n",
    "dataset = AncientCoins(\"Coinset\", img_size, is_gpu, transform=transform)"
   ]
  },
  {
   "cell_type": "code",
   "execution_count": null,
   "metadata": {},
   "outputs": [],
   "source": [
    "resnet = models.resnet50(pretrained=True)\n",
    "#Remove last layer from Resnet model\n",
    "modules = list(resnet.children())[:-1]\n",
    "resnet = nn.Sequential(*modules)\n",
    "for p in resnet.parameters():\n",
    "    p.requires_grad = False\n",
    "    print(resnet)"
   ]
  }
 ],
 "metadata": {
  "kernelspec": {
   "display_name": "ml",
   "language": "python",
   "name": "ml"
  },
  "language_info": {
   "codemirror_mode": {
    "name": "ipython",
    "version": 3
   },
   "file_extension": ".py",
   "mimetype": "text/x-python",
   "name": "python",
   "nbconvert_exporter": "python",
   "pygments_lexer": "ipython3",
   "version": "3.6.9"
  }
 },
 "nbformat": 4,
 "nbformat_minor": 4
}
