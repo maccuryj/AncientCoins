{
 "cells": [
  {
   "cell_type": "markdown",
   "metadata": {},
   "source": [
    "# Coin Clustering Example"
   ]
  },
  {
   "cell_type": "code",
   "execution_count": 1,
   "metadata": {},
   "outputs": [
    {
     "name": "stderr",
     "output_type": "stream",
     "text": [
      "Exception ignored in: <_io.FileIO name='/home/jmaccury/Coding/python-environments/ml/lib/python3.6/site-packages/torchvision/_C.so' mode='rb' closefd=True>\n",
      "ResourceWarning: unclosed file <_io.BufferedReader name='/home/jmaccury/Coding/python-environments/ml/lib/python3.6/site-packages/torchvision/_C.so'>\n"
     ]
    }
   ],
   "source": [
    "from create_coinset import CoinQuery, ImageParams\n",
    "from coin_loader import AncientCoins\n",
    "from coin_model import BasicCNN, TrainModel\n",
    "import coin_loader\n",
    "import torch\n",
    "import torch.nn as nn\n",
    "from torchvision import transforms\n",
    "import os"
   ]
  },
  {
   "cell_type": "markdown",
   "metadata": {},
   "source": [
    "## Dataset Creation\n",
    "If 'create' is set to True, a new default dataset is created. <br><br>\n",
    "This results in a dataset containing the front side of the coins,\n",
    "with classes based on the front design.<br>\n",
    "The color is grayscale and the image size is 28*28.\n",
    "Edges are cut off. <br><br>\n",
    "Some of the parameters can be set by passing an according 'ImageParams' argument to the 'CoinQuery' object."
   ]
  },
  {
   "cell_type": "code",
   "execution_count": 2,
   "metadata": {},
   "outputs": [],
   "source": [
    "#Set to True if dataset should be created\n",
    "create = False\n",
    "\n",
    "if create:\n",
    "    #Create default dataset in folder 'Coinset'\n",
    "    conn = sql.connect(**cf.config)\n",
    "    coin_query = CoinQuery(conn)\n",
    "    coin_query.create_dataset()\n",
    "    conn.close()"
   ]
  },
  {
   "cell_type": "markdown",
   "metadata": {},
   "source": [
    "## Create Dataset and Dataloader"
   ]
  },
  {
   "cell_type": "code",
   "execution_count": 3,
   "metadata": {},
   "outputs": [],
   "source": [
    "# Set the device to cuda if a GPU is available\n",
    "is_gpu = torch.cuda.is_available()\n",
    "device = torch.device(\"cuda\" if is_gpu else \"cpu\")\n",
    "#Set the desired image size (according to CNN requirements)\n",
    "img_size = 28\n",
    "\n",
    "transform = [\n",
    "            transforms.ToPILImage(),\n",
    "            transforms.Resize((img_size,img_size)),\n",
    "            transforms.RandomHorizontalFlip(),\n",
    "            transforms.Grayscale(num_output_channels=1),\n",
    "            transforms.ToTensor()]\n",
    "\n",
    "dataset = AncientCoins(\"Coinset\", img_size, is_gpu, transform=transform)"
   ]
  },
  {
   "cell_type": "markdown",
   "metadata": {},
   "source": [
    "## Model Setup"
   ]
  },
  {
   "cell_type": "code",
   "execution_count": 4,
   "metadata": {},
   "outputs": [
    {
     "name": "stdout",
     "output_type": "stream",
     "text": [
      "BasicCNN(\n",
      "  (model): Sequential(\n",
      "    (0): Conv2d(1, 32, kernel_size=(5, 5), stride=(1, 1))\n",
      "    (1): ReLU(inplace=True)\n",
      "    (2): MaxPool2d(kernel_size=2, stride=2, padding=0, dilation=1, ceil_mode=False)\n",
      "    (3): Conv2d(32, 64, kernel_size=(5, 5), stride=(1, 1))\n",
      "    (4): ReLU(inplace=True)\n",
      "    (5): MaxPool2d(kernel_size=2, stride=2, padding=0, dilation=1, ceil_mode=False)\n",
      "  )\n",
      "  (fc): Linear(in_features=1024, out_features=39, bias=True)\n",
      ")\n"
     ]
    }
   ],
   "source": [
    "#Create CNN model\n",
    "num_classes = len(dataset.labels.keys())\n",
    "model = BasicCNN(num_classes, img_size).to(device)\n",
    "print(model)\n",
    "\n",
    "# set the loss function and optimizer\n",
    "criterion = nn.CrossEntropyLoss(ignore_index=500).to(device)\n",
    "optimizer = torch.optim.Adam(model.parameters(), lr=0.001,\n",
    "                            betas=(0.5, 0.999))"
   ]
  },
  {
   "cell_type": "markdown",
   "metadata": {},
   "source": [
    "## Model Training"
   ]
  },
  {
   "cell_type": "code",
   "execution_count": 5,
   "metadata": {},
   "outputs": [
    {
     "name": "stdout",
     "output_type": "stream",
     "text": [
      "EPOCH: 1\n",
      "TRAIN\n",
      "Loss 3.6619 (3.6619)\tPrec@1 3.125 (3.125)\n",
      "VALIDATION\n",
      " * Validation accuracy: Prec@1 6.762 \n",
      "EPOCH: 2\n",
      "TRAIN\n",
      "Loss 3.6313 (3.6313)\tPrec@1 0.000 (0.000)\n",
      "VALIDATION\n",
      " * Validation accuracy: Prec@1 6.557 \n",
      "EPOCH: 3\n",
      "TRAIN\n",
      "Loss 3.2460 (3.2460)\tPrec@1 9.375 (9.375)\n",
      "VALIDATION\n",
      " * Validation accuracy: Prec@1 16.803 \n",
      "EPOCH: 4\n",
      "TRAIN\n",
      "Loss 3.2008 (3.2008)\tPrec@1 18.750 (18.750)\n",
      "VALIDATION\n",
      " * Validation accuracy: Prec@1 22.131 \n",
      "EPOCH: 5\n",
      "TRAIN\n",
      "Loss 2.7962 (2.7962)\tPrec@1 15.625 (15.625)\n",
      "VALIDATION\n",
      " * Validation accuracy: Prec@1 29.713 \n",
      "EPOCH: 6\n",
      "TRAIN\n",
      "Loss 2.6527 (2.6527)\tPrec@1 28.125 (28.125)\n",
      "VALIDATION\n",
      " * Validation accuracy: Prec@1 30.328 \n",
      "EPOCH: 7\n",
      "TRAIN\n",
      "Loss 2.5514 (2.5514)\tPrec@1 25.000 (25.000)\n",
      "VALIDATION\n",
      " * Validation accuracy: Prec@1 33.402 \n",
      "EPOCH: 8\n",
      "TRAIN\n",
      "Loss 2.3135 (2.3135)\tPrec@1 37.500 (37.500)\n",
      "VALIDATION\n",
      " * Validation accuracy: Prec@1 35.861 \n",
      "EPOCH: 9\n",
      "TRAIN\n",
      "Loss 1.6396 (1.6396)\tPrec@1 56.250 (56.250)\n",
      "VALIDATION\n",
      " * Validation accuracy: Prec@1 35.451 \n",
      "EPOCH: 10\n",
      "TRAIN\n",
      "Loss 2.1145 (2.1145)\tPrec@1 46.875 (46.875)\n",
      "VALIDATION\n",
      " * Validation accuracy: Prec@1 38.115 \n",
      "EPOCH: 11\n",
      "TRAIN\n",
      "Loss 1.6058 (1.6058)\tPrec@1 62.500 (62.500)\n",
      "VALIDATION\n",
      " * Validation accuracy: Prec@1 40.984 \n",
      "EPOCH: 12\n",
      "TRAIN\n",
      "Loss 1.6834 (1.6834)\tPrec@1 59.375 (59.375)\n",
      "VALIDATION\n",
      " * Validation accuracy: Prec@1 42.828 \n",
      "EPOCH: 13\n",
      "TRAIN\n",
      "Loss 1.2783 (1.2783)\tPrec@1 62.500 (62.500)\n",
      "VALIDATION\n",
      " * Validation accuracy: Prec@1 38.730 \n",
      "EPOCH: 14\n",
      "TRAIN\n",
      "Loss 1.4727 (1.4727)\tPrec@1 50.000 (50.000)\n",
      "VALIDATION\n",
      " * Validation accuracy: Prec@1 43.443 \n",
      "EPOCH: 15\n",
      "TRAIN\n",
      "Loss 1.6310 (1.6310)\tPrec@1 56.250 (56.250)\n",
      "VALIDATION\n",
      " * Validation accuracy: Prec@1 45.492 \n",
      "EPOCH: 16\n",
      "TRAIN\n",
      "Loss 1.5026 (1.5026)\tPrec@1 62.500 (62.500)\n",
      "VALIDATION\n",
      " * Validation accuracy: Prec@1 40.574 \n",
      "EPOCH: 17\n",
      "TRAIN\n",
      "Loss 1.4608 (1.4608)\tPrec@1 62.500 (62.500)\n",
      "VALIDATION\n",
      " * Validation accuracy: Prec@1 42.213 \n",
      "EPOCH: 18\n",
      "TRAIN\n",
      "Loss 1.0398 (1.0398)\tPrec@1 71.875 (71.875)\n",
      "VALIDATION\n",
      " * Validation accuracy: Prec@1 46.107 \n",
      "EPOCH: 19\n",
      "TRAIN\n",
      "Loss 1.0460 (1.0460)\tPrec@1 62.500 (62.500)\n",
      "VALIDATION\n",
      " * Validation accuracy: Prec@1 45.287 \n",
      "EPOCH: 20\n",
      "TRAIN\n",
      "Loss 1.1560 (1.1560)\tPrec@1 62.500 (62.500)\n",
      "VALIDATION\n",
      " * Validation accuracy: Prec@1 46.311 \n",
      "EPOCH: 21\n",
      "TRAIN\n",
      "Loss 0.9535 (0.9535)\tPrec@1 65.625 (65.625)\n",
      "VALIDATION\n",
      " * Validation accuracy: Prec@1 47.336 \n",
      "EPOCH: 22\n",
      "TRAIN\n",
      "Loss 1.0663 (1.0663)\tPrec@1 56.250 (56.250)\n",
      "VALIDATION\n",
      " * Validation accuracy: Prec@1 46.311 \n",
      "EPOCH: 23\n",
      "TRAIN\n",
      "Loss 1.0342 (1.0342)\tPrec@1 71.875 (71.875)\n",
      "VALIDATION\n",
      " * Validation accuracy: Prec@1 46.107 \n",
      "EPOCH: 24\n",
      "TRAIN\n",
      "Loss 0.9421 (0.9421)\tPrec@1 71.875 (71.875)\n",
      "VALIDATION\n",
      " * Validation accuracy: Prec@1 48.975 \n",
      "EPOCH: 25\n",
      "TRAIN\n",
      "Loss 0.9203 (0.9203)\tPrec@1 78.125 (78.125)\n",
      "VALIDATION\n",
      " * Validation accuracy: Prec@1 46.721 \n",
      "EPOCH: 26\n",
      "TRAIN\n",
      "Loss 1.2615 (1.2615)\tPrec@1 68.750 (68.750)\n",
      "VALIDATION\n",
      " * Validation accuracy: Prec@1 44.877 \n",
      "EPOCH: 27\n",
      "TRAIN\n",
      "Loss 0.9155 (0.9155)\tPrec@1 71.875 (71.875)\n",
      "VALIDATION\n",
      " * Validation accuracy: Prec@1 49.180 \n",
      "EPOCH: 28\n",
      "TRAIN\n",
      "Loss 0.7521 (0.7521)\tPrec@1 81.250 (81.250)\n",
      "VALIDATION\n",
      " * Validation accuracy: Prec@1 47.951 \n",
      "EPOCH: 29\n",
      "TRAIN\n",
      "Loss 0.6901 (0.6901)\tPrec@1 81.250 (81.250)\n",
      "VALIDATION\n",
      " * Validation accuracy: Prec@1 48.361 \n",
      "EPOCH: 30\n",
      "TRAIN\n",
      "Loss 0.8508 (0.8508)\tPrec@1 68.750 (68.750)\n",
      "VALIDATION\n",
      " * Validation accuracy: Prec@1 47.336 \n"
     ]
    }
   ],
   "source": [
    "trainer = TrainModel(device, dataset.trainloader, dataset.valloader, model, criterion, optimizer)"
   ]
  },
  {
   "cell_type": "code",
   "execution_count": 36,
   "metadata": {},
   "outputs": [],
   "source": []
  }
 ],
 "metadata": {
  "kernelspec": {
   "display_name": "ml",
   "language": "python",
   "name": "ml"
  },
  "language_info": {
   "codemirror_mode": {
    "name": "ipython",
    "version": 3
   },
   "file_extension": ".py",
   "mimetype": "text/x-python",
   "name": "python",
   "nbconvert_exporter": "python",
   "pygments_lexer": "ipython3",
   "version": "3.6.9"
  }
 },
 "nbformat": 4,
 "nbformat_minor": 4
}
